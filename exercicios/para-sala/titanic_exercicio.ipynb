{
 "cells": [
  {
   "cell_type": "code",
<<<<<<< HEAD
   "execution_count": 4,
   "metadata": {},
   "outputs": [],
   "source": [
    "import pandas as pd\n",
=======
   "execution_count": 18,
   "metadata": {},
   "outputs": [
    {
     "name": "stdout",
     "output_type": "stream",
     "text": [
      "Collecting matplotlibNote: you may need to restart the kernel to use updated packages.\n"
     ]
    },
    {
     "name": "stderr",
     "output_type": "stream",
     "text": [
      "WARNING: Ignoring invalid distribution ~atplotlib (c:\\Users\\stefa\\AppData\\Local\\Programs\\Python\\Python311\\Lib\\site-packages)\n",
      "WARNING: Ignoring invalid distribution ~atplotlib (c:\\Users\\stefa\\AppData\\Local\\Programs\\Python\\Python311\\Lib\\site-packages)\n",
      "ERROR: Could not install packages due to an OSError: [WinError 5] Acesso negado: 'c:\\\\Users\\\\stefa\\\\AppData\\\\Local\\\\Programs\\\\Python\\\\Python311\\\\Lib\\\\site-packages\\\\matplotlib\\\\ft2font.cp311-win_amd64.pyd'\n",
      "Consider using the `--user` option or check the permissions.\n",
      "\n"
     ]
    },
    {
     "name": "stdout",
     "output_type": "stream",
     "text": [
      "\n",
      "  Using cached matplotlib-3.9.0-cp311-cp311-win_amd64.whl.metadata (11 kB)\n",
      "Requirement already satisfied: contourpy>=1.0.1 in c:\\users\\stefa\\appdata\\local\\programs\\python\\python311\\lib\\site-packages (from matplotlib) (1.2.1)\n",
      "Requirement already satisfied: cycler>=0.10 in c:\\users\\stefa\\appdata\\local\\programs\\python\\python311\\lib\\site-packages (from matplotlib) (0.12.1)\n",
      "Requirement already satisfied: fonttools>=4.22.0 in c:\\users\\stefa\\appdata\\local\\programs\\python\\python311\\lib\\site-packages (from matplotlib) (4.53.0)\n",
      "Requirement already satisfied: kiwisolver>=1.3.1 in c:\\users\\stefa\\appdata\\local\\programs\\python\\python311\\lib\\site-packages (from matplotlib) (1.4.5)\n",
      "Requirement already satisfied: numpy>=1.23 in c:\\users\\stefa\\appdata\\local\\programs\\python\\python311\\lib\\site-packages (from matplotlib) (1.26.4)\n",
      "Requirement already satisfied: packaging>=20.0 in c:\\users\\stefa\\appdata\\local\\programs\\python\\python311\\lib\\site-packages (from matplotlib) (24.0)\n",
      "Requirement already satisfied: pillow>=8 in c:\\users\\stefa\\appdata\\local\\programs\\python\\python311\\lib\\site-packages (from matplotlib) (10.3.0)\n",
      "Requirement already satisfied: pyparsing>=2.3.1 in c:\\users\\stefa\\appdata\\local\\programs\\python\\python311\\lib\\site-packages (from matplotlib) (3.1.2)\n",
      "Requirement already satisfied: python-dateutil>=2.7 in c:\\users\\stefa\\appdata\\local\\programs\\python\\python311\\lib\\site-packages (from matplotlib) (2.9.0.post0)\n",
      "Requirement already satisfied: six>=1.5 in c:\\users\\stefa\\appdata\\local\\programs\\python\\python311\\lib\\site-packages (from python-dateutil>=2.7->matplotlib) (1.16.0)\n",
      "Using cached matplotlib-3.9.0-cp311-cp311-win_amd64.whl (8.0 MB)\n",
      "Installing collected packages: matplotlib\n"
     ]
    }
   ],
   "source": [
    "pip install matplotlib"
   ]
  },
  {
   "cell_type": "code",
   "execution_count": 1,
   "metadata": {},
   "outputs": [],
   "source": [
    "#biliotecas\n",
    "import pandas as pd \n",
>>>>>>> 186a4b8daf46231f25124e06136089ff789ac5a2
    "import numpy as np"
   ]
  },
  {
   "cell_type": "code",
<<<<<<< HEAD
   "execution_count": 7,
=======
   "execution_count": 6,
>>>>>>> 186a4b8daf46231f25124e06136089ff789ac5a2
   "metadata": {},
   "outputs": [
    {
     "data": {
      "text/html": [
       "<div>\n",
       "<style scoped>\n",
       "    .dataframe tbody tr th:only-of-type {\n",
       "        vertical-align: middle;\n",
       "    }\n",
       "\n",
       "    .dataframe tbody tr th {\n",
       "        vertical-align: top;\n",
       "    }\n",
       "\n",
       "    .dataframe thead th {\n",
       "        text-align: right;\n",
       "    }\n",
       "</style>\n",
       "<table border=\"1\" class=\"dataframe\">\n",
       "  <thead>\n",
       "    <tr style=\"text-align: right;\">\n",
       "      <th></th>\n",
       "      <th>PassengerId</th>\n",
       "      <th>Survived</th>\n",
       "      <th>Pclass</th>\n",
       "      <th>Name</th>\n",
       "      <th>Sex</th>\n",
       "      <th>Age</th>\n",
       "      <th>SibSp</th>\n",
       "      <th>Parch</th>\n",
       "      <th>Ticket</th>\n",
       "      <th>Fare</th>\n",
       "      <th>Cabin</th>\n",
       "      <th>Embarked</th>\n",
       "    </tr>\n",
       "  </thead>\n",
       "  <tbody>\n",
       "    <tr>\n",
       "      <th>0</th>\n",
       "      <td>1</td>\n",
       "      <td>0</td>\n",
       "      <td>3</td>\n",
       "      <td>Braund, Mr. Owen Harris</td>\n",
       "      <td>male</td>\n",
       "      <td>22.0</td>\n",
       "      <td>1</td>\n",
       "      <td>0</td>\n",
       "      <td>A/5 21171</td>\n",
       "      <td>7.2500</td>\n",
       "      <td>NaN</td>\n",
       "      <td>S</td>\n",
       "    </tr>\n",
       "    <tr>\n",
       "      <th>1</th>\n",
       "      <td>2</td>\n",
       "      <td>1</td>\n",
       "      <td>1</td>\n",
       "      <td>Cumings, Mrs. John Bradley (Florence Briggs Th...</td>\n",
       "      <td>female</td>\n",
       "      <td>38.0</td>\n",
       "      <td>1</td>\n",
       "      <td>0</td>\n",
       "      <td>PC 17599</td>\n",
       "      <td>71.2833</td>\n",
       "      <td>C85</td>\n",
       "      <td>C</td>\n",
       "    </tr>\n",
       "    <tr>\n",
       "      <th>2</th>\n",
       "      <td>3</td>\n",
       "      <td>1</td>\n",
       "      <td>3</td>\n",
       "      <td>Heikkinen, Miss. Laina</td>\n",
       "      <td>female</td>\n",
       "      <td>26.0</td>\n",
       "      <td>0</td>\n",
       "      <td>0</td>\n",
       "      <td>STON/O2. 3101282</td>\n",
       "      <td>7.9250</td>\n",
       "      <td>NaN</td>\n",
       "      <td>S</td>\n",
       "    </tr>\n",
       "    <tr>\n",
       "      <th>3</th>\n",
       "      <td>4</td>\n",
       "      <td>1</td>\n",
       "      <td>1</td>\n",
       "      <td>Futrelle, Mrs. Jacques Heath (Lily May Peel)</td>\n",
       "      <td>female</td>\n",
       "      <td>35.0</td>\n",
       "      <td>1</td>\n",
       "      <td>0</td>\n",
       "      <td>113803</td>\n",
       "      <td>53.1000</td>\n",
       "      <td>C123</td>\n",
       "      <td>S</td>\n",
       "    </tr>\n",
       "    <tr>\n",
       "      <th>4</th>\n",
       "      <td>5</td>\n",
       "      <td>0</td>\n",
       "      <td>3</td>\n",
       "      <td>Allen, Mr. William Henry</td>\n",
       "      <td>male</td>\n",
       "      <td>35.0</td>\n",
       "      <td>0</td>\n",
       "      <td>0</td>\n",
       "      <td>373450</td>\n",
       "      <td>8.0500</td>\n",
       "      <td>NaN</td>\n",
       "      <td>S</td>\n",
       "    </tr>\n",
       "    <tr>\n",
       "      <th>...</th>\n",
       "      <td>...</td>\n",
       "      <td>...</td>\n",
       "      <td>...</td>\n",
       "      <td>...</td>\n",
       "      <td>...</td>\n",
       "      <td>...</td>\n",
       "      <td>...</td>\n",
       "      <td>...</td>\n",
       "      <td>...</td>\n",
       "      <td>...</td>\n",
       "      <td>...</td>\n",
       "      <td>...</td>\n",
       "    </tr>\n",
       "    <tr>\n",
       "      <th>886</th>\n",
       "      <td>887</td>\n",
       "      <td>0</td>\n",
       "      <td>2</td>\n",
       "      <td>Montvila, Rev. Juozas</td>\n",
       "      <td>male</td>\n",
       "      <td>27.0</td>\n",
       "      <td>0</td>\n",
       "      <td>0</td>\n",
       "      <td>211536</td>\n",
       "      <td>13.0000</td>\n",
       "      <td>NaN</td>\n",
       "      <td>S</td>\n",
       "    </tr>\n",
       "    <tr>\n",
       "      <th>887</th>\n",
       "      <td>888</td>\n",
       "      <td>1</td>\n",
       "      <td>1</td>\n",
       "      <td>Graham, Miss. Margaret Edith</td>\n",
       "      <td>female</td>\n",
       "      <td>19.0</td>\n",
       "      <td>0</td>\n",
       "      <td>0</td>\n",
       "      <td>112053</td>\n",
       "      <td>30.0000</td>\n",
       "      <td>B42</td>\n",
       "      <td>S</td>\n",
       "    </tr>\n",
       "    <tr>\n",
       "      <th>888</th>\n",
       "      <td>889</td>\n",
       "      <td>0</td>\n",
       "      <td>3</td>\n",
       "      <td>Johnston, Miss. Catherine Helen \"Carrie\"</td>\n",
       "      <td>female</td>\n",
       "      <td>NaN</td>\n",
       "      <td>1</td>\n",
       "      <td>2</td>\n",
       "      <td>W./C. 6607</td>\n",
       "      <td>23.4500</td>\n",
       "      <td>NaN</td>\n",
       "      <td>S</td>\n",
       "    </tr>\n",
       "    <tr>\n",
       "      <th>889</th>\n",
       "      <td>890</td>\n",
       "      <td>1</td>\n",
       "      <td>1</td>\n",
       "      <td>Behr, Mr. Karl Howell</td>\n",
       "      <td>male</td>\n",
       "      <td>26.0</td>\n",
       "      <td>0</td>\n",
       "      <td>0</td>\n",
       "      <td>111369</td>\n",
       "      <td>30.0000</td>\n",
       "      <td>C148</td>\n",
       "      <td>C</td>\n",
       "    </tr>\n",
       "    <tr>\n",
       "      <th>890</th>\n",
       "      <td>891</td>\n",
       "      <td>0</td>\n",
       "      <td>3</td>\n",
       "      <td>Dooley, Mr. Patrick</td>\n",
       "      <td>male</td>\n",
       "      <td>32.0</td>\n",
       "      <td>0</td>\n",
       "      <td>0</td>\n",
       "      <td>370376</td>\n",
       "      <td>7.7500</td>\n",
       "      <td>NaN</td>\n",
       "      <td>Q</td>\n",
       "    </tr>\n",
       "  </tbody>\n",
       "</table>\n",
       "<p>891 rows × 12 columns</p>\n",
       "</div>"
      ],
      "text/plain": [
       "     PassengerId  Survived  Pclass  \\\n",
       "0              1         0       3   \n",
       "1              2         1       1   \n",
       "2              3         1       3   \n",
       "3              4         1       1   \n",
       "4              5         0       3   \n",
       "..           ...       ...     ...   \n",
       "886          887         0       2   \n",
       "887          888         1       1   \n",
       "888          889         0       3   \n",
       "889          890         1       1   \n",
       "890          891         0       3   \n",
       "\n",
       "                                                  Name     Sex   Age  SibSp  \\\n",
       "0                              Braund, Mr. Owen Harris    male  22.0      1   \n",
       "1    Cumings, Mrs. John Bradley (Florence Briggs Th...  female  38.0      1   \n",
       "2                               Heikkinen, Miss. Laina  female  26.0      0   \n",
       "3         Futrelle, Mrs. Jacques Heath (Lily May Peel)  female  35.0      1   \n",
       "4                             Allen, Mr. William Henry    male  35.0      0   \n",
       "..                                                 ...     ...   ...    ...   \n",
       "886                              Montvila, Rev. Juozas    male  27.0      0   \n",
       "887                       Graham, Miss. Margaret Edith  female  19.0      0   \n",
       "888           Johnston, Miss. Catherine Helen \"Carrie\"  female   NaN      1   \n",
       "889                              Behr, Mr. Karl Howell    male  26.0      0   \n",
       "890                                Dooley, Mr. Patrick    male  32.0      0   \n",
       "\n",
       "     Parch            Ticket     Fare Cabin Embarked  \n",
       "0        0         A/5 21171   7.2500   NaN        S  \n",
       "1        0          PC 17599  71.2833   C85        C  \n",
       "2        0  STON/O2. 3101282   7.9250   NaN        S  \n",
       "3        0            113803  53.1000  C123        S  \n",
       "4        0            373450   8.0500   NaN        S  \n",
       "..     ...               ...      ...   ...      ...  \n",
       "886      0            211536  13.0000   NaN        S  \n",
       "887      0            112053  30.0000   B42        S  \n",
       "888      2        W./C. 6607  23.4500   NaN        S  \n",
       "889      0            111369  30.0000  C148        C  \n",
       "890      0            370376   7.7500   NaN        Q  \n",
       "\n",
       "[891 rows x 12 columns]"
      ]
     },
<<<<<<< HEAD
     "execution_count": 7,
=======
     "execution_count": 6,
>>>>>>> 186a4b8daf46231f25124e06136089ff789ac5a2
     "metadata": {},
     "output_type": "execute_result"
    }
   ],
   "source": [
    "df_titanic = pd.read_csv(\"titanic.csv\")\n",
    "df_titanic"
   ]
  },
  {
   "cell_type": "code",
<<<<<<< HEAD
   "execution_count": 9,
=======
   "execution_count": 7,
>>>>>>> 186a4b8daf46231f25124e06136089ff789ac5a2
   "metadata": {},
   "outputs": [
    {
     "data": {
      "text/plain": [
       "(891, 12)"
      ]
     },
<<<<<<< HEAD
     "execution_count": 9,
=======
     "execution_count": 7,
>>>>>>> 186a4b8daf46231f25124e06136089ff789ac5a2
     "metadata": {},
     "output_type": "execute_result"
    }
   ],
   "source": [
    "df_titanic.shape"
   ]
  },
  {
   "cell_type": "code",
<<<<<<< HEAD
   "execution_count": 11,
=======
   "execution_count": 53,
   "metadata": {},
   "outputs": [],
   "source": [
    "df_backup = df_titanic.copy()"
   ]
  },
  {
   "cell_type": "code",
   "execution_count": 10,
   "metadata": {},
   "outputs": [
    {
     "data": {
      "text/plain": [
       "Index(['PassengerId', 'Survived', 'Pclass', 'Name', 'Sex', 'Age', 'SibSp',\n",
       "       'Parch', 'Ticket', 'Fare', 'Cabin', 'Embarked'],\n",
       "      dtype='object')"
      ]
     },
     "execution_count": 10,
     "metadata": {},
     "output_type": "execute_result"
    }
   ],
   "source": [
    "df_titanic.columns"
   ]
  },
  {
   "cell_type": "code",
   "execution_count": 17,
   "metadata": {},
   "outputs": [
    {
     "data": {
      "text/plain": [
       "PassengerId      int64\n",
       "Survived         int64\n",
       "Pclass           int64\n",
       "Name            object\n",
       "Sex             object\n",
       "Age            float64\n",
       "SibSp            int64\n",
       "Parch            int64\n",
       "Ticket          object\n",
       "Fare           float64\n",
       "Cabin           object\n",
       "Embarked        object\n",
       "dtype: object"
      ]
     },
     "execution_count": 17,
     "metadata": {},
     "output_type": "execute_result"
    }
   ],
   "source": [
    "df_titanic.dtypes"
   ]
  },
  {
   "cell_type": "code",
   "execution_count": 15,
>>>>>>> 186a4b8daf46231f25124e06136089ff789ac5a2
   "metadata": {},
   "outputs": [
    {
     "name": "stdout",
     "output_type": "stream",
     "text": [
<<<<<<< HEAD
      "Collecting matplotlib\n",
      "  Downloading matplotlib-3.9.0-cp312-cp312-win_amd64.whl.metadata (11 kB)\n",
      "Collecting contourpy>=1.0.1 (from matplotlib)\n",
      "  Downloading contourpy-1.2.1-cp312-cp312-win_amd64.whl.metadata (5.8 kB)\n",
      "Collecting cycler>=0.10 (from matplotlib)\n",
      "  Downloading cycler-0.12.1-py3-none-any.whl.metadata (3.8 kB)\n",
      "Collecting fonttools>=4.22.0 (from matplotlib)\n",
      "  Downloading fonttools-4.53.0-cp312-cp312-win_amd64.whl.metadata (165 kB)\n",
      "     ---------------------------------------- 0.0/165.5 kB ? eta -:--:--\n",
      "     -- ------------------------------------- 10.2/165.5 kB ? eta -:--:--\n",
      "     ------------------- ------------------- 81.9/165.5 kB 1.2 MB/s eta 0:00:01\n",
      "     -------------------------------------- 165.5/165.5 kB 1.4 MB/s eta 0:00:00\n",
      "Collecting kiwisolver>=1.3.1 (from matplotlib)\n",
      "  Downloading kiwisolver-1.4.5-cp312-cp312-win_amd64.whl.metadata (6.5 kB)\n",
      "Requirement already satisfied: numpy>=1.23 in c:\\users\\tebe 988\\appdata\\local\\programs\\python\\python312\\lib\\site-packages (from matplotlib) (1.26.4)\n",
      "Requirement already satisfied: packaging>=20.0 in c:\\users\\tebe 988\\appdata\\local\\programs\\python\\python312\\lib\\site-packages (from matplotlib) (24.0)\n",
      "Collecting pillow>=8 (from matplotlib)\n",
      "  Downloading pillow-10.3.0-cp312-cp312-win_amd64.whl.metadata (9.4 kB)\n",
      "Collecting pyparsing>=2.3.1 (from matplotlib)\n",
      "  Downloading pyparsing-3.1.2-py3-none-any.whl.metadata (5.1 kB)\n",
      "Requirement already satisfied: python-dateutil>=2.7 in c:\\users\\tebe 988\\appdata\\local\\programs\\python\\python312\\lib\\site-packages (from matplotlib) (2.9.0.post0)\n",
      "Requirement already satisfied: six>=1.5 in c:\\users\\tebe 988\\appdata\\local\\programs\\python\\python312\\lib\\site-packages (from python-dateutil>=2.7->matplotlib) (1.16.0)\n",
      "Downloading matplotlib-3.9.0-cp312-cp312-win_amd64.whl (8.0 MB)\n",
      "   ---------------------------------------- 0.0/8.0 MB ? eta -:--:--\n",
      "    --------------------------------------- 0.1/8.0 MB 7.0 MB/s eta 0:00:02\n",
      "   - -------------------------------------- 0.3/8.0 MB 3.2 MB/s eta 0:00:03\n",
      "   - -------------------------------------- 0.4/8.0 MB 2.9 MB/s eta 0:00:03\n",
      "   --- ------------------------------------ 0.6/8.0 MB 3.5 MB/s eta 0:00:03\n",
      "   ---- ----------------------------------- 0.8/8.0 MB 3.9 MB/s eta 0:00:02\n",
      "   ---- ----------------------------------- 0.8/8.0 MB 3.9 MB/s eta 0:00:02\n",
      "   ------ --------------------------------- 1.2/8.0 MB 3.9 MB/s eta 0:00:02\n",
      "   -------- ------------------------------- 1.7/8.0 MB 4.8 MB/s eta 0:00:02\n",
      "   ---------- ----------------------------- 2.0/8.0 MB 4.9 MB/s eta 0:00:02\n",
      "   ----------- ---------------------------- 2.4/8.0 MB 5.2 MB/s eta 0:00:02\n",
      "   ------------- -------------------------- 2.6/8.0 MB 5.2 MB/s eta 0:00:02\n",
      "   -------------- ------------------------- 2.8/8.0 MB 5.2 MB/s eta 0:00:01\n",
      "   --------------- ------------------------ 3.1/8.0 MB 5.4 MB/s eta 0:00:01\n",
      "   --------------- ------------------------ 3.1/8.0 MB 5.4 MB/s eta 0:00:01\n",
      "   ----------------- ---------------------- 3.6/8.0 MB 5.1 MB/s eta 0:00:01\n",
      "   ------------------- -------------------- 3.8/8.0 MB 5.2 MB/s eta 0:00:01\n",
      "   -------------------- ------------------- 4.1/8.0 MB 5.2 MB/s eta 0:00:01\n",
      "   --------------------- ------------------ 4.4/8.0 MB 5.3 MB/s eta 0:00:01\n",
      "   ---------------------- ----------------- 4.4/8.0 MB 5.3 MB/s eta 0:00:01\n",
      "   ---------------------- ----------------- 4.5/8.0 MB 4.9 MB/s eta 0:00:01\n",
      "   ---------------------- ----------------- 4.5/8.0 MB 4.9 MB/s eta 0:00:01\n",
      "   ---------------------- ----------------- 4.5/8.0 MB 4.9 MB/s eta 0:00:01\n",
      "   ----------------------- ---------------- 4.6/8.0 MB 4.4 MB/s eta 0:00:01\n",
      "   ----------------------- ---------------- 4.6/8.0 MB 4.3 MB/s eta 0:00:01\n",
      "   ----------------------- ---------------- 4.7/8.0 MB 4.2 MB/s eta 0:00:01\n",
      "   ------------------------ --------------- 4.9/8.0 MB 4.1 MB/s eta 0:00:01\n",
      "   ------------------------ --------------- 5.0/8.0 MB 4.0 MB/s eta 0:00:01\n",
      "   ------------------------- -------------- 5.1/8.0 MB 4.0 MB/s eta 0:00:01\n",
      "   -------------------------- ------------- 5.3/8.0 MB 4.0 MB/s eta 0:00:01\n",
      "   --------------------------- ------------ 5.5/8.0 MB 4.0 MB/s eta 0:00:01\n",
      "   ---------------------------- ----------- 5.7/8.0 MB 4.0 MB/s eta 0:00:01\n",
      "   ----------------------------- ---------- 5.9/8.0 MB 4.0 MB/s eta 0:00:01\n",
      "   ------------------------------ --------- 6.1/8.0 MB 4.0 MB/s eta 0:00:01\n",
      "   ------------------------------- -------- 6.3/8.0 MB 4.0 MB/s eta 0:00:01\n",
      "   -------------------------------- ------- 6.5/8.0 MB 4.0 MB/s eta 0:00:01\n",
      "   --------------------------------- ------ 6.7/8.0 MB 4.0 MB/s eta 0:00:01\n",
      "   ---------------------------------- ----- 6.8/8.0 MB 4.0 MB/s eta 0:00:01\n",
      "   ----------------------------------- ---- 7.1/8.0 MB 4.0 MB/s eta 0:00:01\n",
      "   ------------------------------------ --- 7.2/8.0 MB 4.0 MB/s eta 0:00:01\n",
      "   ------------------------------------- -- 7.5/8.0 MB 4.0 MB/s eta 0:00:01\n",
      "   -------------------------------------- - 7.7/8.0 MB 4.0 MB/s eta 0:00:01\n",
      "   ---------------------------------------  7.8/8.0 MB 4.0 MB/s eta 0:00:01\n",
      "   ---------------------------------------  8.0/8.0 MB 4.0 MB/s eta 0:00:01\n",
      "   ---------------------------------------- 8.0/8.0 MB 3.9 MB/s eta 0:00:00\n",
      "Downloading contourpy-1.2.1-cp312-cp312-win_amd64.whl (189 kB)\n",
      "   ---------------------------------------- 0.0/189.9 kB ? eta -:--:--\n",
      "   ---------------------------------------- 189.9/189.9 kB 3.8 MB/s eta 0:00:00\n",
      "Downloading cycler-0.12.1-py3-none-any.whl (8.3 kB)\n",
      "Downloading fonttools-4.53.0-cp312-cp312-win_amd64.whl (2.2 MB)\n",
      "   ---------------------------------------- 0.0/2.2 MB ? eta -:--:--\n",
      "   ---- ----------------------------------- 0.2/2.2 MB 4.9 MB/s eta 0:00:01\n",
      "   -------- ------------------------------- 0.5/2.2 MB 5.1 MB/s eta 0:00:01\n",
      "   ------------ --------------------------- 0.7/2.2 MB 4.8 MB/s eta 0:00:01\n",
      "   --------------- ------------------------ 0.9/2.2 MB 4.5 MB/s eta 0:00:01\n",
      "   ------------------- -------------------- 1.1/2.2 MB 4.6 MB/s eta 0:00:01\n",
      "   ----------------------- ---------------- 1.3/2.2 MB 4.5 MB/s eta 0:00:01\n",
      "   --------------------------- ------------ 1.5/2.2 MB 4.5 MB/s eta 0:00:01\n",
      "   ------------------------------- -------- 1.7/2.2 MB 4.5 MB/s eta 0:00:01\n",
      "   ---------------------------------- ----- 1.9/2.2 MB 4.5 MB/s eta 0:00:01\n",
      "   ---------------------------------------  2.1/2.2 MB 4.6 MB/s eta 0:00:01\n",
      "   ---------------------------------------- 2.2/2.2 MB 4.5 MB/s eta 0:00:00\n",
      "Downloading kiwisolver-1.4.5-cp312-cp312-win_amd64.whl (56 kB)\n",
      "   ---------------------------------------- 0.0/56.0 kB ? eta -:--:--\n",
      "   ---------------------------------------- 56.0/56.0 kB 3.1 MB/s eta 0:00:00\n",
      "Downloading pillow-10.3.0-cp312-cp312-win_amd64.whl (2.5 MB)\n",
      "   ---------------------------------------- 0.0/2.5 MB ? eta -:--:--\n",
      "   --- ------------------------------------ 0.2/2.5 MB 6.9 MB/s eta 0:00:01\n",
      "   ------ --------------------------------- 0.4/2.5 MB 5.4 MB/s eta 0:00:01\n",
      "   ---------- ----------------------------- 0.6/2.5 MB 5.1 MB/s eta 0:00:01\n",
      "   ------------- -------------------------- 0.9/2.5 MB 5.5 MB/s eta 0:00:01\n",
      "   ----------------- ---------------------- 1.1/2.5 MB 5.5 MB/s eta 0:00:01\n",
      "   -------------------- ------------------- 1.3/2.5 MB 5.2 MB/s eta 0:00:01\n",
      "   ------------------------ --------------- 1.5/2.5 MB 5.2 MB/s eta 0:00:01\n",
      "   ---------------------------- ----------- 1.8/2.5 MB 5.2 MB/s eta 0:00:01\n",
      "   -------------------------------- ------- 2.0/2.5 MB 5.2 MB/s eta 0:00:01\n",
      "   ----------------------------------- ---- 2.3/2.5 MB 5.2 MB/s eta 0:00:01\n",
      "   ---------------------------------------  2.5/2.5 MB 5.1 MB/s eta 0:00:01\n",
      "   ---------------------------------------- 2.5/2.5 MB 4.9 MB/s eta 0:00:00\n",
      "Downloading pyparsing-3.1.2-py3-none-any.whl (103 kB)\n",
      "   ---------------------------------------- 0.0/103.2 kB ? eta -:--:--\n",
      "   ---------------------------------------- 103.2/103.2 kB 5.8 MB/s eta 0:00:00\n",
      "Installing collected packages: pyparsing, pillow, kiwisolver, fonttools, cycler, contourpy, matplotlib\n",
      "Successfully installed contourpy-1.2.1 cycler-0.12.1 fonttools-4.53.0 kiwisolver-1.4.5 matplotlib-3.9.0 pillow-10.3.0 pyparsing-3.1.2\n",
      "Note: you may need to restart the kernel to use updated packages.\n"
=======
      "<class 'pandas.core.frame.DataFrame'>\n",
      "RangeIndex: 891 entries, 0 to 890\n",
      "Data columns (total 12 columns):\n",
      " #   Column       Non-Null Count  Dtype  \n",
      "---  ------       --------------  -----  \n",
      " 0   PassengerId  891 non-null    int64  \n",
      " 1   Survived     891 non-null    int64  \n",
      " 2   Pclass       891 non-null    int64  \n",
      " 3   Name         891 non-null    object \n",
      " 4   Sex          891 non-null    object \n",
      " 5   Age          714 non-null    float64\n",
      " 6   SibSp        891 non-null    int64  \n",
      " 7   Parch        891 non-null    int64  \n",
      " 8   Ticket       891 non-null    object \n",
      " 9   Fare         891 non-null    float64\n",
      " 10  Cabin        204 non-null    object \n",
      " 11  Embarked     889 non-null    object \n",
      "dtypes: float64(2), int64(5), object(5)\n",
      "memory usage: 83.7+ KB\n"
>>>>>>> 186a4b8daf46231f25124e06136089ff789ac5a2
     ]
    }
   ],
   "source": [
<<<<<<< HEAD
    "pip install matplotlib"
=======
    "df_titanic.info()"
   ]
  },
  {
   "cell_type": "code",
   "execution_count": 13,
   "metadata": {},
   "outputs": [
    {
     "data": {
      "text/html": [
       "<div>\n",
       "<style scoped>\n",
       "    .dataframe tbody tr th:only-of-type {\n",
       "        vertical-align: middle;\n",
       "    }\n",
       "\n",
       "    .dataframe tbody tr th {\n",
       "        vertical-align: top;\n",
       "    }\n",
       "\n",
       "    .dataframe thead th {\n",
       "        text-align: right;\n",
       "    }\n",
       "</style>\n",
       "<table border=\"1\" class=\"dataframe\">\n",
       "  <thead>\n",
       "    <tr style=\"text-align: right;\">\n",
       "      <th></th>\n",
       "      <th>PassengerId</th>\n",
       "      <th>Survived</th>\n",
       "      <th>Pclass</th>\n",
       "      <th>Age</th>\n",
       "      <th>SibSp</th>\n",
       "      <th>Parch</th>\n",
       "      <th>Fare</th>\n",
       "    </tr>\n",
       "  </thead>\n",
       "  <tbody>\n",
       "    <tr>\n",
       "      <th>count</th>\n",
       "      <td>891.000000</td>\n",
       "      <td>891.000000</td>\n",
       "      <td>891.000000</td>\n",
       "      <td>714.000000</td>\n",
       "      <td>891.000000</td>\n",
       "      <td>891.000000</td>\n",
       "      <td>891.000000</td>\n",
       "    </tr>\n",
       "    <tr>\n",
       "      <th>mean</th>\n",
       "      <td>446.000000</td>\n",
       "      <td>0.383838</td>\n",
       "      <td>2.308642</td>\n",
       "      <td>29.699118</td>\n",
       "      <td>0.523008</td>\n",
       "      <td>0.381594</td>\n",
       "      <td>32.204208</td>\n",
       "    </tr>\n",
       "    <tr>\n",
       "      <th>std</th>\n",
       "      <td>257.353842</td>\n",
       "      <td>0.486592</td>\n",
       "      <td>0.836071</td>\n",
       "      <td>14.526497</td>\n",
       "      <td>1.102743</td>\n",
       "      <td>0.806057</td>\n",
       "      <td>49.693429</td>\n",
       "    </tr>\n",
       "    <tr>\n",
       "      <th>min</th>\n",
       "      <td>1.000000</td>\n",
       "      <td>0.000000</td>\n",
       "      <td>1.000000</td>\n",
       "      <td>0.420000</td>\n",
       "      <td>0.000000</td>\n",
       "      <td>0.000000</td>\n",
       "      <td>0.000000</td>\n",
       "    </tr>\n",
       "    <tr>\n",
       "      <th>25%</th>\n",
       "      <td>223.500000</td>\n",
       "      <td>0.000000</td>\n",
       "      <td>2.000000</td>\n",
       "      <td>20.125000</td>\n",
       "      <td>0.000000</td>\n",
       "      <td>0.000000</td>\n",
       "      <td>7.910400</td>\n",
       "    </tr>\n",
       "    <tr>\n",
       "      <th>50%</th>\n",
       "      <td>446.000000</td>\n",
       "      <td>0.000000</td>\n",
       "      <td>3.000000</td>\n",
       "      <td>28.000000</td>\n",
       "      <td>0.000000</td>\n",
       "      <td>0.000000</td>\n",
       "      <td>14.454200</td>\n",
       "    </tr>\n",
       "    <tr>\n",
       "      <th>75%</th>\n",
       "      <td>668.500000</td>\n",
       "      <td>1.000000</td>\n",
       "      <td>3.000000</td>\n",
       "      <td>38.000000</td>\n",
       "      <td>1.000000</td>\n",
       "      <td>0.000000</td>\n",
       "      <td>31.000000</td>\n",
       "    </tr>\n",
       "    <tr>\n",
       "      <th>max</th>\n",
       "      <td>891.000000</td>\n",
       "      <td>1.000000</td>\n",
       "      <td>3.000000</td>\n",
       "      <td>80.000000</td>\n",
       "      <td>8.000000</td>\n",
       "      <td>6.000000</td>\n",
       "      <td>512.329200</td>\n",
       "    </tr>\n",
       "  </tbody>\n",
       "</table>\n",
       "</div>"
      ],
      "text/plain": [
       "       PassengerId    Survived      Pclass         Age       SibSp  \\\n",
       "count   891.000000  891.000000  891.000000  714.000000  891.000000   \n",
       "mean    446.000000    0.383838    2.308642   29.699118    0.523008   \n",
       "std     257.353842    0.486592    0.836071   14.526497    1.102743   \n",
       "min       1.000000    0.000000    1.000000    0.420000    0.000000   \n",
       "25%     223.500000    0.000000    2.000000   20.125000    0.000000   \n",
       "50%     446.000000    0.000000    3.000000   28.000000    0.000000   \n",
       "75%     668.500000    1.000000    3.000000   38.000000    1.000000   \n",
       "max     891.000000    1.000000    3.000000   80.000000    8.000000   \n",
       "\n",
       "            Parch        Fare  \n",
       "count  891.000000  891.000000  \n",
       "mean     0.381594   32.204208  \n",
       "std      0.806057   49.693429  \n",
       "min      0.000000    0.000000  \n",
       "25%      0.000000    7.910400  \n",
       "50%      0.000000   14.454200  \n",
       "75%      0.000000   31.000000  \n",
       "max      6.000000  512.329200  "
      ]
     },
     "execution_count": 13,
     "metadata": {},
     "output_type": "execute_result"
    }
   ],
   "source": [
    "df_titanic.describe()"
   ]
  },
  {
   "cell_type": "code",
   "execution_count": 57,
   "metadata": {},
   "outputs": [],
   "source": [
    "def processamento_df(df_titanic):\n",
    "    head = df_titanic.head(3)\n",
    "    \n",
    "    baby_df = df_titanic.sample(100)\n",
    "    \n",
    "    df_titanic = df_titanic.sort_values(\"Fare\")\n",
    "    \n",
    "    df_titanic = df_titanic.drop([\"SibSp\", \"Parch\"], axis = \"columns\")\n",
    "    \n",
    "    df_titanic = df_titanic.dropna(subset = \"Fare\")\n",
    "    \n",
    "    df_titanic = df_titanic.reset_index()\n",
    "    \n",
    "    metricas = df_titanic.describe()\n",
    "    \n",
    "    return head, baby_df, df_titanic, metricas\n"
   ]
  },
  {
   "cell_type": "code",
   "execution_count": 55,
   "metadata": {},
   "outputs": [
    {
     "data": {
      "text/html": [
       "<div>\n",
       "<style scoped>\n",
       "    .dataframe tbody tr th:only-of-type {\n",
       "        vertical-align: middle;\n",
       "    }\n",
       "\n",
       "    .dataframe tbody tr th {\n",
       "        vertical-align: top;\n",
       "    }\n",
       "\n",
       "    .dataframe thead th {\n",
       "        text-align: right;\n",
       "    }\n",
       "</style>\n",
       "<table border=\"1\" class=\"dataframe\">\n",
       "  <thead>\n",
       "    <tr style=\"text-align: right;\">\n",
       "      <th></th>\n",
       "      <th>index</th>\n",
       "      <th>PassengerId</th>\n",
       "      <th>Survived</th>\n",
       "      <th>Pclass</th>\n",
       "      <th>Name</th>\n",
       "      <th>Sex</th>\n",
       "      <th>Age</th>\n",
       "      <th>Ticket</th>\n",
       "      <th>Fare</th>\n",
       "      <th>Cabin</th>\n",
       "      <th>Embarked</th>\n",
       "    </tr>\n",
       "  </thead>\n",
       "  <tbody>\n",
       "    <tr>\n",
       "      <th>0</th>\n",
       "      <td>271</td>\n",
       "      <td>272</td>\n",
       "      <td>1</td>\n",
       "      <td>3</td>\n",
       "      <td>Tornquist, Mr. William Henry</td>\n",
       "      <td>male</td>\n",
       "      <td>25.0</td>\n",
       "      <td>LINE</td>\n",
       "      <td>0.0</td>\n",
       "      <td>NaN</td>\n",
       "      <td>S</td>\n",
       "    </tr>\n",
       "    <tr>\n",
       "      <th>1</th>\n",
       "      <td>597</td>\n",
       "      <td>598</td>\n",
       "      <td>0</td>\n",
       "      <td>3</td>\n",
       "      <td>Johnson, Mr. Alfred</td>\n",
       "      <td>male</td>\n",
       "      <td>49.0</td>\n",
       "      <td>LINE</td>\n",
       "      <td>0.0</td>\n",
       "      <td>NaN</td>\n",
       "      <td>S</td>\n",
       "    </tr>\n",
       "    <tr>\n",
       "      <th>2</th>\n",
       "      <td>302</td>\n",
       "      <td>303</td>\n",
       "      <td>0</td>\n",
       "      <td>3</td>\n",
       "      <td>Johnson, Mr. William Cahoone Jr</td>\n",
       "      <td>male</td>\n",
       "      <td>19.0</td>\n",
       "      <td>LINE</td>\n",
       "      <td>0.0</td>\n",
       "      <td>NaN</td>\n",
       "      <td>S</td>\n",
       "    </tr>\n",
       "  </tbody>\n",
       "</table>\n",
       "</div>"
      ],
      "text/plain": [
       "   index  PassengerId  Survived  Pclass                             Name  \\\n",
       "0    271          272         1       3     Tornquist, Mr. William Henry   \n",
       "1    597          598         0       3              Johnson, Mr. Alfred   \n",
       "2    302          303         0       3  Johnson, Mr. William Cahoone Jr   \n",
       "\n",
       "    Sex   Age Ticket  Fare Cabin Embarked  \n",
       "0  male  25.0   LINE   0.0   NaN        S  \n",
       "1  male  49.0   LINE   0.0   NaN        S  \n",
       "2  male  19.0   LINE   0.0   NaN        S  "
      ]
     },
     "execution_count": 55,
     "metadata": {},
     "output_type": "execute_result"
    }
   ],
   "source": [
    "df_titanic.head(3)"
   ]
  },
  {
   "cell_type": "code",
   "execution_count": 58,
   "metadata": {},
   "outputs": [],
   "source": [
    "#leitura do csv\n",
    "df_titanic = pd.read_csv(\"titanic.csv\")"
   ]
  },
  {
   "cell_type": "code",
   "execution_count": 61,
   "metadata": {},
   "outputs": [],
   "source": [
    "head, baby_df, df_titanic, metricas = processamento_df(df_titanic)"
   ]
  },
  {
   "cell_type": "code",
   "execution_count": 62,
   "metadata": {},
   "outputs": [
    {
     "name": "stdout",
     "output_type": "stream",
     "text": [
      "     PassengerId  Survived  Pclass                         Name   Sex   Age  \\\n",
      "313          314         0       3       Hendekovic, Mr. Ignjac  male  28.0   \n",
      "191          192         0       2        Carbines, Mr. William  male  19.0   \n",
      "631          632         0       3  Lundahl, Mr. Johan Svensson  male  51.0   \n",
      "\n",
      "     SibSp  Parch  Ticket     Fare Cabin Embarked  \n",
      "313      0      0  349243   7.8958   NaN        S  \n",
      "191      0      0   28424  13.0000   NaN        S  \n",
      "631      0      0  347743   7.0542   NaN        S  \n"
     ]
    }
   ],
   "source": [
    "print(head)"
   ]
  },
  {
   "cell_type": "code",
   "execution_count": 37,
   "metadata": {},
   "outputs": [
    {
     "name": "stdout",
     "output_type": "stream",
     "text": [
      "Amostra aleatória (baby_df):\n",
      "     PassengerId  Survived  Pclass                                      Name  \\\n",
      "857          858         1       1                    Daly, Mr. Peter Denis    \n",
      "52            53         1       1  Harper, Mrs. Henry Sleeper (Myna Haxtun)   \n",
      "149          150         0       2         Byles, Rev. Thomas Roussel Davids   \n",
      "203          204         0       3                      Youseff, Mr. Gerious   \n",
      "539          540         1       1        Frolicher, Miss. Hedwig Margaritha   \n",
      "..           ...       ...     ...                                       ...   \n",
      "306          307         1       1                   Fleming, Miss. Margaret   \n",
      "255          256         1       3   Touma, Mrs. Darwis (Hanne Youssef Razi)   \n",
      "172          173         1       3              Johnson, Miss. Eleanor Ileen   \n",
      "690          691         1       1                   Dick, Mr. Albert Adrian   \n",
      "848          849         0       2                         Harper, Rev. John   \n",
      "\n",
      "        Sex   Age  SibSp  Parch    Ticket      Fare Cabin Embarked  \n",
      "857    male  51.0      0      0    113055   26.5500   E17        S  \n",
      "52   female  49.0      1      0  PC 17572   76.7292   D33        C  \n",
      "149    male  42.0      0      0    244310   13.0000   NaN        S  \n",
      "203    male  45.5      0      0      2628    7.2250   NaN        C  \n",
      "539  female  22.0      0      2     13568   49.5000   B39        C  \n",
      "..      ...   ...    ...    ...       ...       ...   ...      ...  \n",
      "306  female   NaN      0      0     17421  110.8833   NaN        C  \n",
      "255  female  29.0      0      2      2650   15.2458   NaN        C  \n",
      "172  female   1.0      1      1    347742   11.1333   NaN        S  \n",
      "690    male  31.0      1      0     17474   57.0000   B20        S  \n",
      "848    male  28.0      0      1    248727   33.0000   NaN        S  \n",
      "\n",
      "[100 rows x 12 columns]\n"
     ]
    }
   ],
   "source": [
    "print(\"Amostra aleatória (baby_df):\")\n",
    "print(baby_df)"
   ]
  },
  {
   "cell_type": "code",
   "execution_count": 38,
   "metadata": {},
   "outputs": [
    {
     "name": "stdout",
     "output_type": "stream",
     "text": [
      "DataFrame procesado (df_titanic):\n",
      "     index  PassengerId  Survived  Pclass                                Name  \\\n",
      "0      271          272         1       3        Tornquist, Mr. William Henry   \n",
      "1      597          598         0       3                 Johnson, Mr. Alfred   \n",
      "2      302          303         0       3     Johnson, Mr. William Cahoone Jr   \n",
      "3      633          634         0       1       Parr, Mr. William Henry Marsh   \n",
      "4      277          278         0       2         Parkes, Mr. Francis \"Frank\"   \n",
      "..     ...          ...       ...     ...                                 ...   \n",
      "886    438          439         0       1                   Fortune, Mr. Mark   \n",
      "887    341          342         1       1      Fortune, Miss. Alice Elizabeth   \n",
      "888    737          738         1       1              Lesurer, Mr. Gustave J   \n",
      "889    258          259         1       1                    Ward, Miss. Anna   \n",
      "890    679          680         1       1  Cardeza, Mr. Thomas Drake Martinez   \n",
      "\n",
      "        Sex   Age    Ticket      Fare        Cabin Embarked  \n",
      "0      male  25.0      LINE    0.0000          NaN        S  \n",
      "1      male  49.0      LINE    0.0000          NaN        S  \n",
      "2      male  19.0      LINE    0.0000          NaN        S  \n",
      "3      male   NaN    112052    0.0000          NaN        S  \n",
      "4      male   NaN    239853    0.0000          NaN        S  \n",
      "..      ...   ...       ...       ...          ...      ...  \n",
      "886    male  64.0     19950  263.0000  C23 C25 C27        S  \n",
      "887  female  24.0     19950  263.0000  C23 C25 C27        S  \n",
      "888    male  35.0  PC 17755  512.3292         B101        C  \n",
      "889  female  35.0  PC 17755  512.3292          NaN        C  \n",
      "890    male  36.0  PC 17755  512.3292  B51 B53 B55        C  \n",
      "\n",
      "[891 rows x 11 columns]\n"
     ]
    }
   ],
   "source": [
    "print(\"DataFrame procesado (df_titanic):\")\n",
    "print(df_titanic)"
>>>>>>> 186a4b8daf46231f25124e06136089ff789ac5a2
   ]
  },
  {
   "cell_type": "code",
   "execution_count": 39,
   "metadata": {},
<<<<<<< HEAD
   "outputs": [],
   "source": [
    "import matplotlib.pyplot as plt \n"
   ]
  },
  {
   "cell_type": "code",
   "execution_count": 33,
   "metadata": {},
   "outputs": [],
   "source": [
    "def processamento_df(df_titanic):\n",
    "\n",
    "    df_titanic.head(3)\n",
    "\n",
    "    baby_df = df_titanic.sample(100)\n",
    "    \n",
    "    df_titanic = df_titanic.sort_values(\"Fare\")\n",
    "\n",
    "    df_titanic = df_titanic.drop([\"SibSp\", \"Parch\"], axis = \"columns\")\n",
    "\n",
    "    df_titanic = df_titanic.dropna(subset =\"Fare\")\n",
    "\n",
    "    df_titanic = df_titanic.reset_index()\n",
    "\n",
    "    metricas = df_titanic.describe()\n",
    "\n",
    "    return baby_df, df_titanic, metricas\n",
    "#retorna tudo e guarda#\n",
    "\n"
   ]
  },
  {
   "cell_type": "code",
   "execution_count": 34,
   "metadata": {},
   "outputs": [],
   "source": [
    "df_titanic =  pd.read_csv('titanic.csv')"
   ]
  },
  {
   "cell_type": "code",
   "execution_count": 35,
   "metadata": {},
   "outputs": [],
   "source": [
    "baby_df, df_titanic, metricas = processamento_df(df_titanic)\n",
    "# Aqui chama função de forma especifica >>>> dps print (mostra:)#"
   ]
  },
  {
   "cell_type": "code",
   "execution_count": 36,
   "metadata": {},
=======
>>>>>>> 186a4b8daf46231f25124e06136089ff789ac5a2
   "outputs": [
    {
     "name": "stdout",
     "output_type": "stream",
     "text": [
<<<<<<< HEAD
      "metricas descritivas (metricas):\n",
=======
      "Méticas descritivas (metricas):\n",
>>>>>>> 186a4b8daf46231f25124e06136089ff789ac5a2
      "            index  PassengerId    Survived      Pclass         Age        Fare\n",
      "count  891.000000   891.000000  891.000000  891.000000  714.000000  891.000000\n",
      "mean   445.000000   446.000000    0.383838    2.308642   29.699118   32.204208\n",
      "std    257.353842   257.353842    0.486592    0.836071   14.526497   49.693429\n",
      "min      0.000000     1.000000    0.000000    1.000000    0.420000    0.000000\n",
      "25%    222.500000   223.500000    0.000000    2.000000   20.125000    7.910400\n",
      "50%    445.000000   446.000000    0.000000    3.000000   28.000000   14.454200\n",
      "75%    667.500000   668.500000    1.000000    3.000000   38.000000   31.000000\n",
      "max    890.000000   891.000000    1.000000    3.000000   80.000000  512.329200\n"
     ]
    }
   ],
   "source": [
<<<<<<< HEAD
    "print (\"metricas descritivas (metricas):\")\n",
    "print (metricas)"
   ]
  },
  {
   "cell_type": "code",
   "execution_count": 40,
   "metadata": {},
   "outputs": [
    {
     "data": {
      "text/plain": [
       "Text(0.5, 1.0, 'Numero de Passageiros por classe')"
      ]
     },
     "execution_count": 40,
     "metadata": {},
     "output_type": "execute_result"
    },
    {
     "data": {
      "image/png": "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",
      "text/plain": [
       "<Figure size 640x480 with 1 Axes>"
      ]
     },
     "metadata": {},
     "output_type": "display_data"
    }
   ],
   "source": [
    "contagem_passageiros = df_titanic[\"Pclass\"].value_counts()\n",
    "contagem_passageiros.plot(kind = \"bar\", edgecolor = \"blue\", color = \"pink\")\n",
    "\n",
    "plt.xlabel(\"Classe do Passageiro\")\n",
    "plt.ylabel(\"Quantidade\")\n",
    "plt.title(\"Numero de Passageiros por classe\")"
   ]
  },
  {
   "cell_type": "code",
   "execution_count": 41,
   "metadata": {},
   "outputs": [
    {
     "data": {
      "text/plain": [
       "Index(['index', 'PassengerId', 'Survived', 'Pclass', 'Name', 'Sex', 'Age',\n",
       "       'Ticket', 'Fare', 'Cabin', 'Embarked'],\n",
       "      dtype='object')"
      ]
     },
     "execution_count": 41,
     "metadata": {},
     "output_type": "execute_result"
    }
   ],
   "source": [
    "df_titanic.columns"
   ]
  },
  {
   "cell_type": "code",
   "execution_count": 51,
   "metadata": {},
   "outputs": [
    {
     "data": {
      "text/plain": [
       "<Axes: ylabel='Survived'>"
      ]
     },
     "execution_count": 51,
     "metadata": {},
     "output_type": "execute_result"
    },
    {
     "data": {
      "image/png": "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",
      "text/plain": [
       "<Figure size 640x480 with 1 Axes>"
      ]
     },
     "metadata": {},
     "output_type": "display_data"
    }
   ],
   "source": [
    "taxa_sobrevivencia = df_titanic[\"Survived\"].value_counts()\n",
    "taxa_sobrevivencia.plot(kind = \"barh\", edgecolor = \"red\", color = \"green\")\n"
=======
    "print(\"Métricas descritivas (metricas):\")\n",
    "print(metricas)"
>>>>>>> 186a4b8daf46231f25124e06136089ff789ac5a2
   ]
  }
 ],
 "metadata": {
  "kernelspec": {
   "display_name": "Python 3",
   "language": "python",
   "name": "python3"
  },
  "language_info": {
   "codemirror_mode": {
    "name": "ipython",
    "version": 3
   },
   "file_extension": ".py",
   "mimetype": "text/x-python",
   "name": "python",
   "nbconvert_exporter": "python",
   "pygments_lexer": "ipython3",
<<<<<<< HEAD
   "version": "3.12.3"
=======
   "version": "3.11.4"
>>>>>>> 186a4b8daf46231f25124e06136089ff789ac5a2
  }
 },
 "nbformat": 4,
 "nbformat_minor": 2
}
